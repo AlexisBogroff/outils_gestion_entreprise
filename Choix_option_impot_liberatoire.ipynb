{
 "cells": [
  {
   "cell_type": "markdown",
   "metadata": {},
   "source": [
    "# Aide à la décision pour le mode d'imposition en tant que micro-entrepreneur au régime micro-fiscal\n",
    "Choix entre les régimes :\n",
    "- barème progressif de l'impôt sur le revenu avec abattement\n",
    "- impôt libératoire sur le revenu sans abattement\n",
    "\n",
    "Dans chaque cas, l'impôt est directement calculé sur le chiffre d'affaire (CA), et non sur les bénéfices."
   ]
  },
  {
   "cell_type": "markdown",
   "metadata": {},
   "source": [
    "## Paramètres"
   ]
  },
  {
   "cell_type": "markdown",
   "metadata": {},
   "source": [
    "### Mon entreprise"
   ]
  },
  {
   "cell_type": "code",
   "execution_count": 109,
   "metadata": {},
   "outputs": [],
   "source": [
    "# Type d'activité de la micro entreprise\n",
    "# 'BNC', 'BIC_AUTRES', 'BIC_ACHAT_REVENTE'\n",
    "REGIME = 'BNC'\n",
    "\n",
    "# CA total : ceci est le CA avant abattement\n",
    "CA_PERSO_BRUT = 27000\n",
    "\n",
    "# Nombre de parts de quotient familial\n",
    "N_PARTS_Q_FAMIL = 1"
   ]
  },
  {
   "cell_type": "markdown",
   "metadata": {},
   "source": [
    "### Seuils et taux réglementaires au 01-09-2023"
   ]
  },
  {
   "cell_type": "code",
   "execution_count": 110,
   "metadata": {},
   "outputs": [],
   "source": [
    "# Impôt libératoire\n",
    "IMP_LIB = 0.022\n",
    "\n",
    "# Abattements sur CA\n",
    "DIC_ABATTEMENTS = {'BNC':0.34,\n",
    "                   'BIC_AUTRES':0.5,\n",
    "                   'BIC_ACHAT_REVENTE':0.71}\n",
    "\n",
    "# Abattement plancher\n",
    "ABATTEMENT_MINIMUM = 305\n",
    "\n",
    "# Barème impôt sur le revenu 01-09-2023\n",
    "LIST_DICS_TAUX_TRANCHE = [\n",
    "    {'borne_inf': 10778,\n",
    "     'borne_sup': 27478,\n",
    "     'taux': 0.11},\n",
    "    {'borne_inf': 27479,\n",
    "     'borne_sup': 78570,\n",
    "     'taux': 0.3},\n",
    "    {'borne_inf': 78571,\n",
    "     'borne_sup': 168994,\n",
    "     'taux': 0.41},\n",
    "    {'borne_inf': 168995,\n",
    "     'taux': 0.45}\n",
    "]\n",
    "\n",
    "# Seuils au-delà desquels l'option de l'impot\n",
    "# libératoire sur le revenu n'est plus possible\n",
    "\n",
    "# Revenu fiscal de référence de 2022, pour une application\n",
    "# au 1er janvier 2024, en fonction de la part de quotient familial.\n",
    "# ex : 1 part de quotient familial (personne seule) => seuil 27519€\n",
    "DIC_SEUILS_OPTION_LIB = {1: 25710,\n",
    "                         2: 51420,\n",
    "                         2.5: 64275,\n",
    "                         3: 77130}"
   ]
  },
  {
   "cell_type": "markdown",
   "metadata": {},
   "source": [
    "### Ensemble des CA à visualiser"
   ]
  },
  {
   "cell_type": "code",
   "execution_count": 111,
   "metadata": {},
   "outputs": [],
   "source": [
    "# 10000, 11000, ..., 32000\n",
    "LISTE_CA = [i*10 for i in range(10, 3200)]"
   ]
  },
  {
   "cell_type": "markdown",
   "metadata": {},
   "source": [
    "## Imports"
   ]
  },
  {
   "cell_type": "code",
   "execution_count": 112,
   "metadata": {},
   "outputs": [],
   "source": [
    "# Graphs et couche design\n",
    "import matplotlib.pyplot as plt\n",
    "import seaborn as sns\n",
    "sns.set()"
   ]
  },
  {
   "cell_type": "markdown",
   "metadata": {},
   "source": [
    "## Fonctions"
   ]
  },
  {
   "cell_type": "code",
   "execution_count": 113,
   "metadata": {},
   "outputs": [],
   "source": [
    "def calcul_impots_bareme_progressif(ca, list_dics_taux_tranche):\n",
    "    \"\"\" \n",
    "    Calcule le montant d'impôt en appliquant le barème progressif\n",
    "    sur le chiffre d'affaires (CA) après abattement.\n",
    "    \"\"\"\n",
    "    impots = 0\n",
    "    \n",
    "    # Calcule l'impôt en appliquant le barème des tranches ayant\n",
    "    # une borne supérieure sur le CA compris dans cette tranche\n",
    "    for tranche in list_dics_taux_tranche[:-1]:\n",
    "        \n",
    "        # Renvoie le montant d'impôts déjà calculé si le CA \n",
    "        # n'atteint pas la borne inférieure de la tranche\n",
    "        if ca < tranche['borne_inf']:\n",
    "            return impots\n",
    "        \n",
    "        # Si borne_inf < CA < borne_sup, applique le \n",
    "        # taux de la tranche sur le montant excédentaire\n",
    "        # de CA uniquement\n",
    "        elif ca <= tranche['borne_sup']:\n",
    "            impots += (ca - tranche['borne_inf']) * tranche['taux']\n",
    "        \n",
    "        else :\n",
    "            # Si CA > borne_sup, applique le taux sur toute la tranche\n",
    "            impots += (tranche['borne_sup'] - tranche['borne_inf']) \\\n",
    "                    * tranche['taux']\n",
    "\n",
    "    # Calcule le CA excédant la dernière tranche\n",
    "    ca_exces = ca - list_dics_taux_tranche[-1]['borne_inf']\n",
    "\n",
    "    if ca_exces > 0:\n",
    "        # Calcule l'impôt de la dernière tranche en appliquant\n",
    "        # son taux sur le CA excédentaire\n",
    "        impots += ca_exces * list_dics_taux_tranche[-1]['taux']\n",
    "\n",
    "    return impots"
   ]
  },
  {
   "cell_type": "code",
   "execution_count": 114,
   "metadata": {},
   "outputs": [],
   "source": [
    "def calcul_impots_liberatoire(ca, imp_lib):\n",
    "    \"\"\"\n",
    "    Calcule le montant d'impôt sur le chiffre d'affaires (CA),\n",
    "    en appliquant le taux défini par l'option libératoire de\n",
    "    l'impôt sur le revenu\n",
    "    \"\"\"\n",
    "    return ca * imp_lib"
   ]
  },
  {
   "cell_type": "code",
   "execution_count": 115,
   "metadata": {},
   "outputs": [],
   "source": [
    "def calcul_ca_apres_abattement(ca, dic_abattements, abattement_min, regime):\n",
    "    \"\"\"\n",
    "    Calcule le CA après avoir appliqué l'abattement, dépendant du\n",
    "    type d'activité 'BNC', 'BIC_AUTRES', 'BIC_ACHAT_REVENTE'\n",
    "\n",
    "    Ne s'applique que pour le régime standard d'imposition \n",
    "    avec le barème progressif (et non avec l'option libératoire)\n",
    "    \"\"\"\n",
    "    # Récupération du taux d'abattement correspondant à\n",
    "    # l'activité de l'entreprise\n",
    "    taux_abattement = dic_abattements[regime]\n",
    "\n",
    "    # Calcul du montant d'abattement\n",
    "    montant_abattement = ca * taux_abattement\n",
    "\n",
    "    # Application du seuil minimum d'abattement\n",
    "    if montant_abattement < abattement_min:\n",
    "        montant_abattement = abattement_min\n",
    "\n",
    "    # Calcul du CA après abattement\n",
    "    ca_apres_abattement = ca - montant_abattement\n",
    "\n",
    "    return ca_apres_abattement"
   ]
  },
  {
   "cell_type": "code",
   "execution_count": 116,
   "metadata": {},
   "outputs": [],
   "source": [
    "def calcul_intersection(liste_1, liste_2):\n",
    "    \"\"\"\n",
    "    Calcule le point le plus proche de l'intersection\n",
    "    entre deux lignes droites (définies par des listes)\n",
    "    Ps: Il n'y a donc pas d'interpolation linéaire\n",
    "\n",
    "    Méthode 1 [non implémentée] :\n",
    "      Recherche de la valeur dans liste_1 qui\n",
    "      soit encadrée par deux valeurs de liste_2\n",
    "\n",
    "    Méthode 2 [implémentée] :\n",
    "      Calcule de l'ensemble des écarts entre\n",
    "      chaque valeur de liste_1 et de liste_2\n",
    "    \n",
    "      Recherche de l'écart minimum, puis \n",
    "      récupèration de l'indice, et\n",
    "      récupération de la valeur correspondante\n",
    "    \"\"\"\n",
    "    # Calcul des écarts entre liste_1 et liste_2\n",
    "    liste_ecarts_x = [abs(x1 - x2) \\\n",
    "                       for x1, x2 in zip(liste_1, liste_2)]\n",
    "    \n",
    "    # Récupération de l'indice correspondant à l'écart min\n",
    "    idx_min = liste_ecarts_x.index(min(liste_ecarts_x))\n",
    "    \n",
    "    # Déduction de la valeur d'intersection\n",
    "    val_1_intersec = liste_1[idx_min]\n",
    "    val_2_intersec = liste_2[idx_min]\n",
    "    \n",
    "    return idx_min, (val_1_intersec, val_2_intersec)"
   ]
  },
  {
   "cell_type": "markdown",
   "metadata": {},
   "source": [
    "## Calculs"
   ]
  },
  {
   "cell_type": "code",
   "execution_count": 117,
   "metadata": {},
   "outputs": [],
   "source": [
    "# Montants impots en libératoire\n",
    "liste_impots_lib = [calcul_impots_liberatoire(ca, IMP_LIB) for ca in LISTE_CA]\n",
    "\n",
    "# CAs après abattement\n",
    "liste_ca_apres_abattement = [calcul_ca_apres_abattement(ca, DIC_ABATTEMENTS, ABATTEMENT_MINIMUM, REGIME) \\\n",
    "    for ca in LISTE_CA]\n",
    "\n",
    "# Montants impots en progressif basés\n",
    "# sur CAs après abattement\n",
    "liste_impots_progress = [calcul_impots_bareme_progressif(ca_aps_abattement, LIST_DICS_TAUX_TRANCHE) \\\n",
    "    for ca_aps_abattement in liste_ca_apres_abattement]\n",
    "\n",
    "# Limite de droit à l'option en fonction\n",
    "# du quotient familial\n",
    "limite_ca_option = DIC_SEUILS_OPTION_LIB[N_PARTS_Q_FAMIL]\n",
    "\n",
    "# Récupération de l'indice et des deux valeurs d'impôts\n",
    "# auxquelles les deux régimes se valent~ (intersection)\n",
    "point_intersec, imps_intersec = \\\n",
    "    calcul_intersection(liste_impots_lib, liste_impots_progress)\n",
    "\n",
    "# Déduction du CA d'intersection\n",
    "ca_intersec = LISTE_CA[point_intersec]\n",
    "\n",
    "# 'Interpolation' de l'impôt d'intersection\n",
    "imp_intersec = (imps_intersec[0]+imps_intersec[1])/2\n",
    "\n",
    "# Coordonnées de l'intersection combinées sous\n",
    "# format texte\n",
    "intersec_coords = \"CA: {:.0f}€\\nImpôts: {:.0f}€\".format(ca_intersec, imp_intersec)"
   ]
  },
  {
   "cell_type": "markdown",
   "metadata": {},
   "source": [
    "## Graph"
   ]
  },
  {
   "cell_type": "markdown",
   "metadata": {},
   "source": [
    "Nb : La taille du graph et le positionnement des coordonnées de l'intersection ont été définies arbitrairement et ne sont donc pas dynamiques"
   ]
  },
  {
   "cell_type": "code",
   "execution_count": 118,
   "metadata": {},
   "outputs": [
    {
     "data": {
      "image/png": "[encoded data removed]",
      "text/plain": [
       "<Figure size 576x432 with 1 Axes>"
      ]
     },
     "metadata": {},
     "output_type": "display_data"
    }
   ],
   "source": [
    "# Définition de la taille du graph\n",
    "plt.figure(figsize=(8,6))\n",
    "\n",
    "# Trace les lignes correspondant aux deux régimes\n",
    "plt.plot(LISTE_CA, liste_impots_lib, \\\n",
    "         label='Impôt régime libératoire')\n",
    "plt.plot(LISTE_CA, liste_impots_progress, \\\n",
    "         label='Impôt régime progressif')\n",
    "\n",
    "# Ajout d'un marker et des coordonnées sur le point d'intersection\n",
    "plt.plot(ca_intersec, imp_intersec, marker='o')\n",
    "plt.annotate(text=intersec_coords, xy=(ca_intersec, imp_intersec), \\\n",
    "             xytext =(-80,10),\n",
    "             textcoords=\"offset points\",\n",
    "             color='g')\n",
    "\n",
    "# Ajout du CA limite pour lequel l'option libératoire est possible\n",
    "plt.axvline(limite_ca_option,\n",
    "            label=\"CA maximum pour option libératoire\",\n",
    "            linewidth=.4, color='r')\n",
    "\n",
    "# Ajout du CA d'intersection\n",
    "plt.axvline(ca_intersec,\n",
    "            label=\"CA d'indifférence\",\n",
    "            linewidth=.4, color='g')\n",
    "\n",
    "# Ajout du CA perso de l'entreprise\n",
    "plt.axvline(CA_PERSO_BRUT,\n",
    "            label=\"CA de l'entreprise\",\n",
    "            linewidth=1, color='k')\n",
    "\n",
    "# Labels\n",
    "plt.xlabel(\"Chiffre d'affaires (CA)\")\n",
    "plt.ylabel(\"Montant d'imposition\")\n",
    "\n",
    "plt.legend()\n",
    "plt.show()"
   ]
  },
  {
   "cell_type": "markdown",
   "metadata": {},
   "source": [
    "## Conclusion :\n",
    "- Il faut avoir un CA > 23430€ pour que ça devienne intéressant de\n",
    "bénéficier de l'option libératoire de l'impôt sur le revenu.\n",
    "- Il est possible d'en bénéficier uniquement si le revenu fiscal\n",
    "de référence N-2 est inférieur à 25710 (si quot. familial = 1).\n",
    "- Donc impot libératoire intéressant entre 23430€ et 25710€."
   ]
  }
 ],
 "metadata": {
  "kernelspec": {
   "display_name": "eda",
   "language": "python",
   "name": "python3"
  },
  "language_info": {
   "codemirror_mode": {
    "name": "ipython",
    "version": 3
   },
   "file_extension": ".py",
   "mimetype": "text/x-python",
   "name": "python",
   "nbconvert_exporter": "python",
   "pygments_lexer": "ipython3",
   "version": "3.9.12"
  },
  "metadata": {
   "interpreter": {
    "hash": "143a8234bd608e0b612203721941a09deaaeca24e144d77d0b745dc3344134be"
   }
  }
 },
 "nbformat": 4,
 "nbformat_minor": 4
}
